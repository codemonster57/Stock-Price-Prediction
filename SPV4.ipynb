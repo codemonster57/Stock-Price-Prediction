{
  "cells": [
    {
      "cell_type": "markdown",
      "metadata": {
        "id": "BpDPe7e_6H_i"
      },
      "source": [
        "## Important Note\n",
        "\n",
        "**Please Read Before Proceeding**\n",
        "\n",
        "This Colab Notebook provides a basic overview of the Stock Predictor V4 project. However, it may not contain all the detailed instructions you need for a successful first run. For a more comprehensive understanding and to ensure a smooth initial experience, we recommend referring to the [Readme on the project's GitHub repository](https://github.com/Qerim-iseni09/Stock-Predictor-V4).\n",
        "\n",
        "The Readme on GitHub provides step-by-step instructions, detailed explanations, and troubleshooting tips that will greatly assist you in setting up and running the Stock Predictor V4 effectively. It covers everything from installation to usage and advanced configurations.\n",
        "\n",
        "If you encounter any issues or have questions while using this Colab Notebook, it's highly recommended to consult the GitHub Readme first before seeking further assistance.\n",
        "\n",
        "Thank you for your understanding and happy forecasting!"
      ]
    },
    {
      "cell_type": "markdown",
      "metadata": {
        "id": "kAxM1Ug466je"
      },
      "source": [
        "\n",
        "\n",
        "---\n",
        "\n"
      ]
    },
    {
      "cell_type": "code",
      "execution_count": null,
      "metadata": {
        "cellView": "form",
        "colab": {
          "base_uri": "https://localhost:8080/"
        },
        "id": "Ht7AOLZR3EbR",
        "outputId": "556c52e6-0089-407a-e5d9-3955b39a7586"
      },
      "outputs": [],
      "source": [
        "#@markdown Run to Clone and Install SPV4\n",
        "!git clone https://github.com/Qerim-iseni09/Stock-Predictor-V4.git\n",
        "!mv ./Stock-Predictor-V4/SPV4.py ./SPV4.py\n",
        "!python SPV4.py --install"
      ]
    },
    {
      "cell_type": "markdown",
      "metadata": {
        "id": "5ljVA6Gy4rFN"
      },
      "source": [
        "\n",
        "\n",
        "---\n",
        "\n"
      ]
    },
    {
      "attachments": {},
      "cell_type": "markdown",
      "metadata": {
        "id": "HNKC11ZL3iou"
      },
      "source": [
        "Data Preparation."
      ]
    },
    {
      "cell_type": "code",
      "execution_count": null,
      "metadata": {
        "cellView": "form",
        "colab": {
          "base_uri": "https://localhost:8080/"
        },
        "id": "n1Sg--BO4Sfv",
        "outputId": "4f4e1db2-34d0-4a6b-ddd4-770ace2e4bdc"
      },
      "outputs": [],
      "source": [
        "#@markdown Download and Prepare Data by Ticker (Needs input!)\n",
        "!python ./SPV4.py --prepare_data"
      ]
    },
    {
      "cell_type": "markdown",
      "metadata": {
        "id": "VNHk_qtr4wk0"
      },
      "source": [
        "\n",
        "\n",
        "---\n",
        "\n"
      ]
    },
    {
      "cell_type": "code",
      "execution_count": null,
      "metadata": {
        "cellView": "form",
        "colab": {
          "base_uri": "https://localhost:8080/"
        },
        "id": "TJVa83Er4vtx",
        "outputId": "b08a80de-b46c-43ba-fb13-dfbe16de421e"
      },
      "outputs": [],
      "source": [
        "#@markdown Training the LSTM RL Model\n",
        "\n",
        "!python ./SPV4.py --train"
      ]
    },
    {
      "cell_type": "markdown",
      "metadata": {
        "id": "U-oFuIMb4_PP"
      },
      "source": [
        "\n",
        "\n",
        "---\n",
        "\n"
      ]
    },
    {
      "cell_type": "code",
      "execution_count": null,
      "metadata": {
        "cellView": "form",
        "colab": {
          "base_uri": "https://localhost:8080/"
        },
        "id": "ekN8IMyF5A2V",
        "outputId": "bc17e9fb-be5e-4769-dcd1-a18d9ec61ff9"
      },
      "outputs": [],
      "source": [
        "#@markdown Evaluating the Model\n",
        "!python ./SPV4.py --eval"
      ]
    },
    {
      "cell_type": "markdown",
      "metadata": {
        "id": "-1U34Ra75L3u"
      },
      "source": [
        "\n",
        "\n",
        "---\n",
        "\n"
      ]
    },
    {
      "cell_type": "code",
      "execution_count": null,
      "metadata": {
        "cellView": "form",
        "colab": {
          "base_uri": "https://localhost:8080/"
        },
        "id": "MtVyCCuf5N2N",
        "outputId": "eaa9f846-4643-4c5a-ed8e-a53b779c9b1c"
      },
      "outputs": [],
      "source": [
        "#@markdown Fine Tuning the LSTM RL Model (Needs Input!)\n",
        "\n",
        "!python ./SPV4.py --fine_tune"
      ]
    },
    {
      "cell_type": "markdown",
      "metadata": {
        "id": "4k6nKAFQ5gSC"
      },
      "source": [
        "\n",
        "\n",
        "---\n",
        "\n"
      ]
    },
    {
      "cell_type": "code",
      "execution_count": null,
      "metadata": {
        "cellView": "form",
        "colab": {
          "base_uri": "https://localhost:8080/"
        },
        "id": "pH_pgO8M5i2L",
        "outputId": "f0d79e1a-b2f2-4cdb-b771-ae0afa36a746"
      },
      "outputs": [],
      "source": [
        "#@markdown Utilizing the Model for Stock Market Prediction\n",
        "!python ./SPV4.py --predict"
      ]
    },
    {
      "cell_type": "markdown",
      "metadata": {
        "id": "9-H5m-vZ_EcV"
      },
      "source": [
        "\n",
        "\n",
        "---\n",
        "\n"
      ]
    },
    {
      "cell_type": "code",
      "execution_count": null,
      "metadata": {
        "cellView": "form",
        "id": "31VT61qt_I5m"
      },
      "outputs": [],
      "source": [
        "#@markdown Reset?\n",
        "\n",
        "reset = \"No\" #@param [\"No\", \"Yes\"]\n",
        "\n",
        "#@markdown If answered Yes, the Repo folder will be Removed and you can Reset the Script (Suitable for Updates or other Changes)\n",
        "\n",
        "#@markdown If answered No, the Model File will get Downloaded to your PC and the Environment will be Completely Removed!\n",
        "\n",
        "import os\n",
        "import signal\n",
        "from google.colab import files\n",
        "\n",
        "if reset == \"No\":\n",
        "    !ls\n",
        "    files.download('./model.keras')\n",
        "    files.download(\"./predictions.csv\")\n",
        "else:\n",
        "    !rm -rf ./Stock-Predictor-V4"
      ]
    }
  ],
  "metadata": {
    "accelerator": "GPU",
    "colab": {
      "gpuType": "T4",
      "provenance": []
    },
    "kernelspec": {
      "display_name": "Python 3",
      "name": "python3"
    },
    "language_info": {
      "name": "python",
      "version": "3.11.4"
    }
  },
  "nbformat": 4,
  "nbformat_minor": 0
}
